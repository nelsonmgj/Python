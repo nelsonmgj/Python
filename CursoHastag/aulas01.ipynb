{
 "cells": [
  {
   "cell_type": "markdown",
   "metadata": {},
   "source": [
    "# Exercício do curso\n"
   ]
  },
  {
   "cell_type": "markdown",
   "metadata": {},
   "source": [
    "Primeiro exercício com o detalhe de ter haver um erro em concatenar str com números (o Python é diferente de JS), tem de formatar número em str pra funcionar."
   ]
  },
  {
   "cell_type": "code",
   "execution_count": 1,
   "metadata": {},
   "outputs": [
    {
     "data": {
      "text/plain": [
       "'O faturamento de Coca-Cola é: 225.0'"
      ]
     },
     "metadata": {},
     "output_type": "display_data"
    },
    {
     "data": {
      "text/plain": [
       "'O faturamento de Pepsi Cola é: 195.0'"
      ]
     },
     "metadata": {},
     "output_type": "display_data"
    },
    {
     "data": {
      "text/plain": [
       "'O lucro da loja é: -2080.0'"
      ]
     },
     "metadata": {},
     "output_type": "display_data"
    },
    {
     "data": {
      "text/plain": [
       "'A loja teve prejuízo'"
      ]
     },
     "metadata": {},
     "output_type": "display_data"
    },
    {
     "data": {
      "text/plain": [
       "'A margem de lucro da loja é: 0'"
      ]
     },
     "metadata": {},
     "output_type": "display_data"
    }
   ],
   "source": [
    "vendasCoca = 150\n",
    "vendasPepsi = 130\n",
    "precoCoca = 1.50\n",
    "precoPepsi = 1.50\n",
    "custoLoja = 2500\n",
    "\n",
    "faturamentoCoca = vendasCoca * precoCoca\n",
    "display(\"O faturamento de Coca-Cola é: \" + str(faturamentoCoca))\n",
    "\n",
    "faturamentoPepsi = vendasPepsi * precoPepsi\n",
    "display(\"O faturamento de Pepsi Cola é: \" + str(faturamentoPepsi))\n",
    "\n",
    "faturamentoTotal = faturamentoCoca + faturamentoPepsi\n",
    "lucroLoja = faturamentoTotal - custoLoja\n",
    "display(\"O lucro da loja é: \" + str(lucroLoja))\n",
    "\n",
    "if lucroLoja > 0:\n",
    "    display(\"A loja teve lucro!\")\n",
    "    margemLoja = (lucroLoja / faturamentoTotal) * 100\n",
    "else:\n",
    "    display(\"A loja teve prejuízo!\")\n",
    "    margemLoja = 0\n",
    "display(\"A margem de lucro da loja é: \" + str(margemLoja))"
   ]
  },
  {
   "cell_type": "markdown",
   "metadata": {},
   "source": [
    "### Nova evolução do exercício usando formatação:"
   ]
  },
  {
   "cell_type": "markdown",
   "metadata": {},
   "source": [
    "A primeira maneira de inserir uma variável no str é como em cima, mas há essa outra maneira que é a original:\n",
    "    \n",
    "    \"Texto qualquer {}\".format(variável)\n",
    "\n",
    "Para mais variáveis dentro do texto é só alocar o lugar delas e fazer um único format. Observando que há a possibilidade de haver operações dentro do format:\n",
    "    \n",
    "    \"Texto texto texto {}. Texto texto texto {}, texto texto texto {}.\".format(variável00, variável01, variável02 * variável03)"
   ]
  },
  {
   "cell_type": "code",
   "execution_count": 3,
   "metadata": {},
   "outputs": [
    {
     "data": {
      "text/plain": [
       "'O faturamento de Coca-Cola é: 225.0. O faturamento de Pepsi Cola é: 195.0'"
      ]
     },
     "metadata": {},
     "output_type": "display_data"
    }
   ],
   "source": [
    "vendasCoca = 150\n",
    "vendasPepsi = 130\n",
    "precoCoca = 1.50\n",
    "precoPepsi = 1.50\n",
    "custoLoja = 2500\n",
    "\n",
    "faturamentoCoca = vendasCoca * precoCoca\n",
    "faturamentoPepsi = vendasPepsi * precoPepsi\n",
    "display(\"O faturamento de Coca-Cola é: {}. O faturamento de Pepsi Cola é: {}\".format(faturamentoCoca, faturamentoPepsi))"
   ]
  },
  {
   "cell_type": "markdown",
   "metadata": {},
   "source": [
    "Há também a evolução do format, que é o f-string que é só colocar um \"f\" antes da str:\n",
    "\n",
    "    f\"Texto texto texto {variável00}. Texto texto texto {variável01}.\"\n",
    "\n",
    "Isso também permite haver uma operação dentro do espaço reservado à variável:\n",
    "\n",
    "    f\"Texto texto texto {variável00}. Texto texto texto {variável01 + variável02}.\""
   ]
  },
  {
   "cell_type": "code",
   "execution_count": 4,
   "metadata": {},
   "outputs": [
    {
     "data": {
      "text/plain": [
       "'O lucro da loja é: -2080.0'"
      ]
     },
     "metadata": {},
     "output_type": "display_data"
    },
    {
     "data": {
      "text/plain": [
       "'A loja teve prejuízo!'"
      ]
     },
     "metadata": {},
     "output_type": "display_data"
    },
    {
     "data": {
      "text/plain": [
       "'A margem de lucro da loja é: 0'"
      ]
     },
     "metadata": {},
     "output_type": "display_data"
    }
   ],
   "source": [
    "faturamentoTotal = faturamentoCoca + faturamentoPepsi\n",
    "lucroLoja = faturamentoTotal - custoLoja\n",
    "display(f\"O lucro da loja é: {lucroLoja}\")\n",
    "\n",
    "if lucroLoja > 0:\n",
    "    display(\"A loja teve lucro!\")\n",
    "    margemLoja = (lucroLoja / faturamentoTotal) * 100\n",
    "else:\n",
    "    display(\"A loja teve prejuízo!\")\n",
    "    margemLoja = 0\n",
    "display(f\"A margem de lucro da loja é: {margemLoja}\")"
   ]
  },
  {
   "cell_type": "markdown",
   "metadata": {},
   "source": [
    "### Outro ponto importante de formatações:"
   ]
  },
  {
   "cell_type": "markdown",
   "metadata": {},
   "source": [
    "Como Python não identifica os tipos automaticamente e permite faz a conversão imediata, há a necessidade de converter sempre qualquer resultado de input de número para formato de número no código, pois input armazena str.\n",
    "O código abaixo vai gerar erro na execução por conta do type (tipo) da variável que é str:"
   ]
  },
  {
   "cell_type": "code",
   "execution_count": 5,
   "metadata": {},
   "outputs": [
    {
     "data": {
      "text/plain": [
       "str"
      ]
     },
     "metadata": {},
     "output_type": "display_data"
    },
    {
     "data": {
      "text/plain": [
       "str"
      ]
     },
     "metadata": {},
     "output_type": "display_data"
    }
   ],
   "source": [
    "vendasCoca = input(\"Digite o número de vendas de Coca-Cola: \")\n",
    "vendasPepsi = input(\"Digite o número de vendas de Pepsi-Cola: \")\n",
    "display(type(vendasCoca))\n",
    "display(type(vendasPepsi))"
   ]
  },
  {
   "cell_type": "markdown",
   "metadata": {},
   "source": [
    "Deve ser feita a conversão direta, porém ainda será necessário utilizar o formato de número americano:"
   ]
  },
  {
   "cell_type": "code",
   "execution_count": 8,
   "metadata": {},
   "outputs": [
    {
     "data": {
      "text/plain": [
       "int"
      ]
     },
     "metadata": {},
     "output_type": "display_data"
    },
    {
     "data": {
      "text/plain": [
       "int"
      ]
     },
     "metadata": {},
     "output_type": "display_data"
    }
   ],
   "source": [
    "vendasCoca = int(input(\"Digite o número de vendas de Coca-Cola: \"))\n",
    "vendasPepsi = int(input(\"Digite o número de vendas de Pepsi-Cola: \"))\n",
    "display(type(vendasCoca))\n",
    "display(type(vendasPepsi))"
   ]
  },
  {
   "cell_type": "code",
   "execution_count": 9,
   "metadata": {},
   "outputs": [
    {
     "data": {
      "text/plain": [
       "float"
      ]
     },
     "metadata": {},
     "output_type": "display_data"
    },
    {
     "data": {
      "text/plain": [
       "float"
      ]
     },
     "metadata": {},
     "output_type": "display_data"
    },
    {
     "data": {
      "text/plain": [
       "float"
      ]
     },
     "metadata": {},
     "output_type": "display_data"
    }
   ],
   "source": [
    "precoCoca = float(input(\"Digite o preço da Coca-Cola: \"))\n",
    "precoPepsi = float(input(\"Digite o preço da Pepsi-Cola: \"))\n",
    "custoLoja = float(input(\"Digite o custo da loja: \"))\n",
    "display(type(precoCoca))\n",
    "display(type(precoPepsi))\n",
    "display(type(custoLoja))"
   ]
  },
  {
   "cell_type": "code",
   "execution_count": 13,
   "metadata": {},
   "outputs": [
    {
     "data": {
      "text/plain": [
       "'O faturamento de Coca-Cola é: 4132.05. O faturamento de Pepsi Cola é: 1931.16.'"
      ]
     },
     "metadata": {},
     "output_type": "display_data"
    },
    {
     "data": {
      "text/plain": [
       "'O faturamento total é: 6063.21.'"
      ]
     },
     "metadata": {},
     "output_type": "display_data"
    },
    {
     "data": {
      "text/plain": [
       "float"
      ]
     },
     "metadata": {},
     "output_type": "display_data"
    },
    {
     "data": {
      "text/plain": [
       "float"
      ]
     },
     "metadata": {},
     "output_type": "display_data"
    }
   ],
   "source": [
    "faturamentoCoca = vendasCoca * precoCoca\n",
    "faturamentoPepsi = vendasPepsi * precoPepsi\n",
    "display(\"O faturamento de Coca-Cola é: {}. O faturamento de Pepsi Cola é: {}.\".format(faturamentoCoca, faturamentoPepsi))\n",
    "display(f\"O faturamento total é: {faturamentoCoca + faturamentoPepsi}.\")\n",
    "display(type(faturamentoCoca))\n",
    "display(type(faturamentoPepsi))"
   ]
  },
  {
   "cell_type": "code",
   "execution_count": 12,
   "metadata": {},
   "outputs": [
    {
     "data": {
      "text/plain": [
       "'O lucro da loja é: 3762.86.'"
      ]
     },
     "metadata": {},
     "output_type": "display_data"
    },
    {
     "data": {
      "text/plain": [
       "'A loja teve lucro!'"
      ]
     },
     "metadata": {},
     "output_type": "display_data"
    },
    {
     "data": {
      "text/plain": [
       "'A margem de lucro da loja é: 62.060525695135084'"
      ]
     },
     "metadata": {},
     "output_type": "display_data"
    }
   ],
   "source": [
    "faturamentoTotal = faturamentoCoca + faturamentoPepsi\n",
    "lucroLoja = faturamentoTotal - custoLoja\n",
    "display(f\"O lucro da loja é: {lucroLoja}.\")\n",
    "\n",
    "if lucroLoja > 0:\n",
    "    display(\"A loja teve lucro!\")\n",
    "    margemLoja = (lucroLoja / faturamentoTotal) * 100\n",
    "else:\n",
    "    display(\"A loja teve prejuízo!\")\n",
    "    margemLoja = 0\n",
    "display(f\"A margem de lucro da loja é: {margemLoja}\")"
   ]
  },
  {
   "cell_type": "markdown",
   "metadata": {},
   "source": [
    "### Conforme pedido do exercício:"
   ]
  },
  {
   "cell_type": "code",
   "execution_count": 16,
   "metadata": {},
   "outputs": [
    {
     "data": {
      "text/plain": [
       "'Tente novamente!'"
      ]
     },
     "metadata": {},
     "output_type": "display_data"
    }
   ],
   "source": [
    "aloAlo = input(\"Digite a mensagem clássica de todo primeiro programa: \")\n",
    "if aloAlo == \"Olá, mundo!\":\n",
    "    display(f\"Parabéns! Você é um programador agora! Digitou a corretamente: {aloAlo}\")\n",
    "else:    \n",
    "    display(\"Tente novamente!\")"
   ]
  }
 ],
 "metadata": {
  "kernelspec": {
   "display_name": "Python 3",
   "language": "python",
   "name": "python3"
  },
  "language_info": {
   "codemirror_mode": {
    "name": "ipython",
    "version": 3
   },
   "file_extension": ".py",
   "mimetype": "text/x-python",
   "name": "python",
   "nbconvert_exporter": "python",
   "pygments_lexer": "ipython3",
   "version": "3.13.1"
  }
 },
 "nbformat": 4,
 "nbformat_minor": 2
}
