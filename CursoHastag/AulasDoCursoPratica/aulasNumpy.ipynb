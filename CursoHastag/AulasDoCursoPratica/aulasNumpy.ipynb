{
 "cells": [
  {
   "cell_type": "markdown",
   "metadata": {},
   "source": [
    "Uso de Numpy"
   ]
  },
  {
   "cell_type": "code",
   "execution_count": 1,
   "metadata": {},
   "outputs": [
    {
     "name": "stdout",
     "output_type": "stream",
     "text": [
      "A média de vendas é R$159.00\n"
     ]
    }
   ],
   "source": [
    "import numpy as np\n",
    "\n",
    "dados = [127, 90, 201, 150, 210, 220, 115]\n",
    "\n",
    "# Pensando diferente da aula e deu certo:\n",
    "mediaVendas = np.mean(np.array(dados))\n",
    "\n",
    "print(f\"A média de vendas é R${mediaVendas:.2f}\") # ou print(mediaVendas)"
   ]
  },
  {
   "cell_type": "code",
   "execution_count": 5,
   "metadata": {},
   "outputs": [
    {
     "name": "stdout",
     "output_type": "stream",
     "text": [
      "[1 4 5 1 2 2 5 6 5 6]\n",
      "O número aleatório é 33\n"
     ]
    }
   ],
   "source": [
    "import numpy as np\n",
    "\n",
    "rng = np.random.default_rng()\n",
    "\n",
    "# Pensando diferente da aula e deu certo:\n",
    "aletaorio = int(rng.random() * 100)    # Gera um número aleatório entre 0 e 100\n",
    "# Apesar de ter funcionado, a forma correta é a de baixo.\n",
    "\n",
    "# Array recomendado pela IA:\n",
    "aleatorios = rng.integers(1, 7, size=10)    # Array de 10 elementos aleatórios entre 1 e 6\n",
    "# aleatórios gera um array de 10 elementos aleatórios entre 1 e 6.\n",
    "\n",
    "print(aleatorios)\n",
    "\n",
    "print(f\"O número aleatório é {aletaorio}\")"
   ]
  }
 ],
 "metadata": {
  "kernelspec": {
   "display_name": "Python 3",
   "language": "python",
   "name": "python3"
  },
  "language_info": {
   "codemirror_mode": {
    "name": "ipython",
    "version": 3
   },
   "file_extension": ".py",
   "mimetype": "text/x-python",
   "name": "python",
   "nbconvert_exporter": "python",
   "pygments_lexer": "ipython3",
   "version": "3.13.1"
  }
 },
 "nbformat": 4,
 "nbformat_minor": 2
}
